{
 "cells": [
  {
   "cell_type": "markdown",
   "id": "3cce63f4",
   "metadata": {},
   "source": [
    "### Regressão Linear Múltipla - Previsão de Consumo de Combustível de Carros ###"
   ]
  },
  {
   "cell_type": "markdown",
   "id": "5af4fb23",
   "metadata": {},
   "source": [
    "1. Contexto de Cenário \n",
    "\n",
    "Uma montadora de automóveis está interessada em entender como diferentes características de um carro (como potência, peso e cilindrada) afetam seu consumo de combustível (medido em Milhas por Galão - MPG). Eles querem um modelo que possa prever o MPG de novos designs de veículos antes mesmo de serem construídos. \n",
    "\n",
    "2. Objetivo \n",
    "\n",
    "Construir um modelo de regressão linear múltipla para prever o consumo de combustível (MPG - Milhas por Galão) de um carro (variável dependente) com base em múltiplas características como cilindrada ( displacement ), potência ( horsepower ) e peso ( weight ) (variáveis independentes). \n",
    "\n",
    "3. Dataset Utilizado \n",
    "\n",
    "Simulamos um pequeno dataset com base nas características do  dataset \"Auto MPG\"\n",
    "\n",
    "https://www.kaggle.com/datasets/uciml/autompg-dataset\n",
    "\n",
    "4. Voce deve fazer a proporção de treinamento vs teste.  \n",
    "X_train, X_test, y_train, y_test = train_test_split(X, y, test_size=0.3, random_state=0)\n"
   ]
  },
  {
   "cell_type": "code",
   "execution_count": 43,
   "id": "85db2b30",
   "metadata": {},
   "outputs": [],
   "source": [
    "import pandas as pd \n",
    "from sklearn.linear_model import LinearRegression \n",
    "from sklearn.model_selection import train_test_split \n",
    "from sklearn.metrics import mean_squared_error, r2_score \n",
    "import matplotlib.pyplot as plt \n",
    "import seaborn as sns"
   ]
  },
  {
   "cell_type": "code",
   "execution_count": 11,
   "id": "c9384fec",
   "metadata": {},
   "outputs": [
    {
     "name": "stdout",
     "output_type": "stream",
     "text": [
      "Dataset gerado (primeiras 5 linhas):\n",
      "    mpg  cylinders  displacement horsepower  weight  acceleration  model year  \\\n",
      "0  18.0          8         307.0        130    3504          12.0          70   \n",
      "1  15.0          8         350.0        165    3693          11.5          70   \n",
      "2  18.0          8         318.0        150    3436          11.0          70   \n",
      "3  16.0          8         304.0        150    3433          12.0          70   \n",
      "4  17.0          8         302.0        140    3449          10.5          70   \n",
      "\n",
      "   origin                   car name  \n",
      "0       1  chevrolet chevelle malibu  \n",
      "1       1          buick skylark 320  \n",
      "2       1         plymouth satellite  \n",
      "3       1              amc rebel sst  \n",
      "4       1                ford torino  \n"
     ]
    }
   ],
   "source": [
    "# Importando a base de vendas\n",
    "base = pd.read_csv(\"./auto-mpg.csv\")\n",
    "\n",
    "df = pd.DataFrame(base) \n",
    "print('Dataset gerado (primeiras 5 linhas):') \n",
    "print(df.head()) \n",
    "\n"
   ]
  },
  {
   "cell_type": "markdown",
   "id": "7b5e901f",
   "metadata": {},
   "source": [
    "### Apresentar os valores de performace ### \n",
    "\n",
    "MSE ≈ 0 → O modelo está muito bom (as previsões estão muito próximas dos valores reais).\n",
    "\n",
    "Quanto menor o MSE, melhor. Mas quão pequeno depende dos seus dados.\n",
    "\n",
    "O R² indica que aproximadamente o percentual da variância no MPG pode ser explicada pelas variáveis independentes no modelo, o que é um bom resultado para este dataset. \n"
   ]
  }
 ],
 "metadata": {
  "kernelspec": {
   "display_name": "Python 3",
   "language": "python",
   "name": "python3"
  },
  "language_info": {
   "codemirror_mode": {
    "name": "ipython",
    "version": 3
   },
   "file_extension": ".py",
   "mimetype": "text/x-python",
   "name": "python",
   "nbconvert_exporter": "python",
   "pygments_lexer": "ipython3",
   "version": "3.12.10"
  }
 },
 "nbformat": 4,
 "nbformat_minor": 5
}
