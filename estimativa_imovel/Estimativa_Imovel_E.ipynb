{
 "cells": [
  {
   "cell_type": "markdown",
   "id": "8f897fa3",
   "metadata": {},
   "source": [
    "### Regressão Linear Simples - Previsão de Preços de Casas ###"
   ]
  },
  {
   "cell_type": "markdown",
   "id": "d5846378",
   "metadata": {},
   "source": [
    "1. Contexto de Cenário\n",
    "\n",
    "Uma imobiliária deseja estimar o preço de venda de casas com base em sua área construída. Eles observaram que, geralmente, casas maiores tendem a ter preços mais altos, mas precisam de um modelo mais preciso para auxiliar seus corretores e clientes. \n",
    "\n",
    "2. Objetivo \n",
    "\n",
    "Desenvolver um modelo de regressão linear simples que possa prever o preço de uma casa (variável dependente) com base em sua área em metros quadrados (variável independente). \n",
    "\n",
    "3. Dataset Utilizado \n",
    "\n",
    "Para este exemplo, utilizamos um dataset sintético gerado em Python, simulando dados de área em m² e preço em mil reais. O dataset é pequeno e simples, ideal para\n",
    "ilustrar o conceito de regressão linear simples. \n"
   ]
  },
  {
   "cell_type": "code",
   "execution_count": 13,
   "id": "c73aaaca",
   "metadata": {},
   "outputs": [],
   "source": [
    "import numpy as np \n",
    "import pandas as pd \n",
    "from sklearn.linear_model import LinearRegression \n",
    "import matplotlib.pyplot as plt \n"
   ]
  },
  {
   "cell_type": "code",
   "execution_count": 14,
   "id": "f9634851",
   "metadata": {},
   "outputs": [
    {
     "name": "stdout",
     "output_type": "stream",
     "text": [
      "Dataset gerado:\n",
      "   Area_m2  Preco_mil_reais\n",
      "0      222       176.540204\n",
      "1       97       140.672372\n",
      "2      167       200.888724\n",
      "3      242       228.756700\n",
      "4      117       188.995092\n",
      "\n",
      "\n"
     ]
    }
   ],
   "source": [
    "# 3. Dataset utilizado (sintético) \n",
    "\n",
    "np.random.seed(0) \n",
    "area = np.random.randint(50, 300, 50) # Área em m2 \n",
    "preco = 50 + 0.8 * area + np.random.normal(0, 20, 50) # Preço em mil reais \n",
    "data = pd.DataFrame({ \n",
    "'Area_m2': area, \n",
    "'Preco_mil_reais': preco \n",
    "}) \n",
    "print('Dataset gerado:') \n",
    "print(data.head()) \n",
    "print('\\n') \n"
   ]
  },
  {
   "cell_type": "markdown",
   "id": "de116be2",
   "metadata": {},
   "source": [
    "Coeficientes do Modelo: \n",
    "\n",
    "Seu modelo DEVE ENCONTRAR OS SEGUINTES VALORES \n",
    "\n",
    "* Coeficiente (inclinação): 0.77 * Intercepto: 50.50 \n",
    "\n",
    "Isso significa que, para cada metro quadrado adicional, o preço da casa aumenta em 0.77 mil (aproximadamente R$ 770). O intercepto de R$ 50.50 mil representa o preço base da casa quando a área é zero (embora isso não tenha um significado prático neste contexto, é parte da equação da reta).\n"
   ]
  }
 ],
 "metadata": {
  "kernelspec": {
   "display_name": "Python 3",
   "language": "python",
   "name": "python3"
  },
  "language_info": {
   "codemirror_mode": {
    "name": "ipython",
    "version": 3
   },
   "file_extension": ".py",
   "mimetype": "text/x-python",
   "name": "python",
   "nbconvert_exporter": "python",
   "pygments_lexer": "ipython3",
   "version": "3.12.10"
  }
 },
 "nbformat": 4,
 "nbformat_minor": 5
}
