{
 "cells": [
  {
   "cell_type": "markdown",
   "id": "8f897fa3",
   "metadata": {},
   "source": [
    "### Regressão Linear Simples - Previsão de Preços de Casas ###"
   ]
  },
  {
   "cell_type": "markdown",
   "id": "d5846378",
   "metadata": {},
   "source": [
    "1. Contexto de Cenário\n",
    "\n",
    "Uma imobiliária deseja estimar o preço de venda de casas com data em sua área construída. Eles observaram que, geralmente, casas maiores tendem a ter preços mais altos, mas precisam de um modelo mais preciso para auxiliar seus corretores e clientes. \n",
    "\n",
    "2. Objetivo \n",
    "\n",
    "Desenvolver um modelo de regressão linear simples que possa prever o preço de uma casa (variável dependente) com data em sua área em metros quadrados (variável independente). \n",
    "\n",
    "3. Dataset Utilizado \n",
    "\n",
    "Para este exemplo, utilizamos um dataset sintético gerado em Python, simulando dados de área em m² e preço em mil reais. O dataset é pequeno e simples, ideal para\n",
    "ilustrar o conceito de regressão linear simples. \n"
   ]
  },
  {
   "cell_type": "code",
   "execution_count": 2,
   "id": "c73aaaca",
   "metadata": {},
   "outputs": [],
   "source": [
    "import numpy as np \n",
    "import pandas as pd \n",
    "from sklearn.linear_model import LinearRegression \n",
    "import matplotlib.pyplot as plt \n"
   ]
  },
  {
   "cell_type": "code",
   "execution_count": 3,
   "id": "f9634851",
   "metadata": {},
   "outputs": [
    {
     "name": "stdout",
     "output_type": "stream",
     "text": [
      "Dataset gerado:\n",
      "   Area_m2  Preco_mil_reais\n",
      "0      222       176.540204\n",
      "1       97       140.672372\n",
      "2      167       200.888724\n",
      "3      242       228.756700\n",
      "4      117       188.995092\n",
      "\n",
      "\n"
     ]
    }
   ],
   "source": [
    "# 3. Dataset utilizado (sintético) \n",
    "\n",
    "np.random.seed(0) \n",
    "area = np.random.randint(50, 300, 50) # Área em m2 \n",
    "preco = 50 + 0.8 * area + np.random.normal(0, 20, 50) # Preço em mil reais \n",
    "data = pd.DataFrame({ \n",
    "'Area_m2': area, \n",
    "'Preco_mil_reais': preco \n",
    "}) \n",
    "print('Dataset gerado:') \n",
    "print(data.head()) \n",
    "print('\\n') \n"
   ]
  },
  {
   "cell_type": "markdown",
   "id": "de116be2",
   "metadata": {},
   "source": [
    "Coeficientes do Modelo: \n",
    "\n",
    "Seu modelo DEVE ENCONTRAR OS SEGUINTES VALORES \n",
    "\n",
    "* Coeficiente (inclinação): 0.77 * Intercepto: 50.50 \n",
    "\n",
    "Isso significa que, para cada metro quadrado adicional, o preço da casa aumenta em 0.77 mil (aproximadamente R$ 770). O intercepto de R$ 50.50 mil representa o preço data da casa quando a área é zero (embora isso não tenha um significado prático neste contexto, é parte da equação da reta).\n"
   ]
  },
  {
   "cell_type": "code",
   "execution_count": 4,
   "id": "da723065",
   "metadata": {},
   "outputs": [
    {
     "name": "stdout",
     "output_type": "stream",
     "text": [
      "[0.76864964]\n",
      "50.50190994172269\n"
     ]
    }
   ],
   "source": [
    "from sklearn.linear_model import LinearRegression\n",
    "\n",
    "modelo = LinearRegression()\n",
    "modelo.fit(data[['Area_m2']], data['Preco_mil_reais'])\n",
    "\n",
    "#visualizando os coeficientes\n",
    "print( modelo.coef_) #coeficiente é o gap entre as informações\n",
    "print(modelo.intercept_) #intercepto é o desvio padrão\n"
   ]
  },
  {
   "cell_type": "code",
   "execution_count": 7,
   "id": "62037106",
   "metadata": {},
   "outputs": [
    {
     "name": "stderr",
     "output_type": "stream",
     "text": [
      "c:\\Users\\biancaveloso-ieg\\OneDrive - Instituto Germinare\\G Tech\\AnaliseDeDados\\venv1\\Lib\\site-packages\\sklearn\\utils\\validation.py:2739: UserWarning: X does not have valid feature names, but LinearRegression was fitted with feature names\n",
      "  warnings.warn(\n",
      "c:\\Users\\biancaveloso-ieg\\OneDrive - Instituto Germinare\\G Tech\\AnaliseDeDados\\venv1\\Lib\\site-packages\\sklearn\\utils\\validation.py:2739: UserWarning: X does not have valid feature names, but LinearRegression was fitted with feature names\n",
      "  warnings.warn(\n"
     ]
    },
    {
     "name": "stdout",
     "output_type": "stream",
     "text": [
      "[204.23183741]\n"
     ]
    },
    {
     "data": {
      "image/png": "[encoded data removed]",
      "text/plain": [
       "<Figure size 640x480 with 1 Axes>"
      ]
     },
     "metadata": {},
     "output_type": "display_data"
    }
   ],
   "source": [
    "print(modelo.predict([[200]]))\n",
    "\n",
    "#Visualizar\n",
    "plt.Figure(figsize=(10, 6))\n",
    "plt.scatter(data['Area_m2'], data['Preco_mil_reais'], alpha=0.5)\n",
    "plt.scatter(200, modelo.predict([[200]]), color='red', s=100, label='Predição para 200 m2')\n",
    "\n",
    "x = np.array(data['Area_m2'])\n",
    "y = modelo.intercept_ + (x * modelo.coef_)\n",
    "\n",
    "plt.plot(x, y, \"r\")\n",
    "\n",
    "plt.xlabel('Area_m2')\n",
    "plt.ylabel('Preco_mil_reais')\n",
    "plt.show() "
   ]
  },
  {
   "cell_type": "code",
   "execution_count": 6,
   "id": "4bbe0184",
   "metadata": {},
   "outputs": [
    {
     "name": "stderr",
     "output_type": "stream",
     "text": [
      "c:\\Users\\biancaveloso-ieg\\OneDrive - Instituto Germinare\\G Tech\\AnaliseDeDados\\venv1\\Lib\\site-packages\\sklearn\\utils\\validation.py:2739: UserWarning: X does not have valid feature names, but LinearRegression was fitted with feature names\n",
      "  warnings.warn(\n"
     ]
    },
    {
     "ename": "NameError",
     "evalue": "name 'base' is not defined",
     "output_type": "error",
     "traceback": [
      "\u001b[1;31m---------------------------------------------------------------------------\u001b[0m",
      "\u001b[1;31mNameError\u001b[0m                                 Traceback (most recent call last)",
      "Cell \u001b[1;32mIn[6], line 7\u001b[0m\n\u001b[0;32m      5\u001b[0m \u001b[38;5;66;03m#Visualizar\u001b[39;00m\n\u001b[0;32m      6\u001b[0m plt\u001b[38;5;241m.\u001b[39mFigure(figsize\u001b[38;5;241m=\u001b[39m(\u001b[38;5;241m10\u001b[39m, \u001b[38;5;241m6\u001b[39m))\n\u001b[1;32m----> 7\u001b[0m plt\u001b[38;5;241m.\u001b[39mscatter(\u001b[43mbase\u001b[49m[\u001b[38;5;124m'\u001b[39m\u001b[38;5;124mInvestimento em marketing\u001b[39m\u001b[38;5;124m'\u001b[39m], base[\u001b[38;5;124m'\u001b[39m\u001b[38;5;124mVenda Qtd\u001b[39m\u001b[38;5;124m'\u001b[39m], alpha\u001b[38;5;241m=\u001b[39m\u001b[38;5;241m0.5\u001b[39m)\n\u001b[0;32m      8\u001b[0m plt\u001b[38;5;241m.\u001b[39mscatter(\u001b[38;5;241m75\u001b[39m, modelo\u001b[38;5;241m.\u001b[39mpredict([[\u001b[38;5;241m75\u001b[39m]]), color\u001b[38;5;241m=\u001b[39m\u001b[38;5;124m'\u001b[39m\u001b[38;5;124mred\u001b[39m\u001b[38;5;124m'\u001b[39m, s\u001b[38;5;241m=\u001b[39m\u001b[38;5;241m100\u001b[39m, label\u001b[38;5;241m=\u001b[39m\u001b[38;5;124m'\u001b[39m\u001b[38;5;124mPredição para 75k\u001b[39m\u001b[38;5;124m'\u001b[39m)\n\u001b[0;32m     10\u001b[0m x \u001b[38;5;241m=\u001b[39m np\u001b[38;5;241m.\u001b[39marray(base[\u001b[38;5;124m'\u001b[39m\u001b[38;5;124mInvestimento em marketing\u001b[39m\u001b[38;5;124m'\u001b[39m])\n",
      "\u001b[1;31mNameError\u001b[0m: name 'base' is not defined"
     ]
    }
   ],
   "source": [
    "# Qual o estoque da loja para o investimento de 75k\n",
    "\n",
    "modelo.predict([[75]])\n",
    "\n",
    "#Visualizar\n",
    "plt.Figure(figsize=(10, 6))\n",
    "plt.scatter(base['Investimento em marketing'], base['Venda Qtd'], alpha=0.5)\n",
    "plt.scatter(75, modelo.predict([[75]]), color='red', s=100, label='Predição para 75k')\n",
    "\n",
    "x = np.array(base['Investimento em marketing'])\n",
    "y = modelo.intercept_ + (x * modelo.coef_)\n",
    "\n",
    "plt.plot(x, y, \"r\")\n",
    "\n",
    "plt.xlabel('Investimento em Marketing')\n",
    "plt.ylabel('Venda Qtd')\n",
    "plt.show() \n"
   ]
  }
 ],
 "metadata": {
  "kernelspec": {
   "display_name": "venv1 (3.12.3)",
   "language": "python",
   "name": "python3"
  },
  "language_info": {
   "codemirror_mode": {
    "name": "ipython",
    "version": 3
   },
   "file_extension": ".py",
   "mimetype": "text/x-python",
   "name": "python",
   "nbconvert_exporter": "python",
   "pygments_lexer": "ipython3",
   "version": "3.12.3"
  }
 },
 "nbformat": 4,
 "nbformat_minor": 5
}
